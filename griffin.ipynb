{
  "nbformat": 4,
  "nbformat_minor": 0,
  "metadata": {
    "colab": {
      "provenance": [],
      "authorship_tag": "ABX9TyNz5h8hZJcwu9PaIBV7OoAs",
      "include_colab_link": true
    },
    "kernelspec": {
      "name": "python3",
      "display_name": "Python 3"
    },
    "language_info": {
      "name": "python"
    }
  },
  "cells": [
    {
      "cell_type": "markdown",
      "metadata": {
        "id": "view-in-github",
        "colab_type": "text"
      },
      "source": [
        "<a href=\"https://colab.research.google.com/github/percivalyan/griffin/blob/main/griffin.ipynb\" target=\"_parent\"><img src=\"https://colab.research.google.com/assets/colab-badge.svg\" alt=\"Open In Colab\"/></a>"
      ]
    },
    {
      "cell_type": "code",
      "execution_count": 1,
      "metadata": {
        "colab": {
          "base_uri": "https://localhost:8080/"
        },
        "id": "NZBVFqE1yut-",
        "outputId": "7d248b1a-c8be-4ad3-dc9e-961fab1203a9"
      },
      "outputs": [
        {
          "output_type": "stream",
          "name": "stdout",
          "text": [
            "Hello I'm Perci.\n"
          ]
        }
      ],
      "source": [
        "import requests\n",
        "\n",
        "url = 'https://raw.githubusercontent.com/percivalyan/griffin/main/Introduce.txt' # URL file yang ingin diambil\n",
        "\n",
        "response = requests.get(url) # Untuk mengirimkan permintaan GET untuk mendapatkan konten file\n",
        "\n",
        "if response.status_code == 200:\n",
        "    print(response.text)\n",
        "else:\n",
        "    print(\"Gagal mengambil data:\", response.status_code)\n"
      ]
    }
  ]
}